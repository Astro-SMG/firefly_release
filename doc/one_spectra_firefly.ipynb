{
 "cells": [
  {
   "cell_type": "markdown",
   "metadata": {},
   "source": [
    "# Fitting a SDSS spectrum with Firefly\n",
    "\n",
    "Here we fit a single SDSS spectrum using one setting within Firefly. With the script '../bin/SDSS/one_spectra.py' you can do a similar kind of run but looping over different convinations of stellar libraries and IMF to be output into a single file.\n",
    "\n",
    "The first step to run Firefly is to set the enviromental variables so Python finds the code and the Stellar Population Models. \n",
    "\n",
    "Example for a .bashrc file:\n",
    "```\n",
    "$FF_DIR='[your path to Firefly]/firefly_code'\n",
    "$PYTHONPATH=‘${FF_DIR}/python:$PYTHONPATH’\n",
    "$STELLARPOPMODELS_DIR=‘[your path to Firefly]/stellar_population_models/'\n",
    "```\n",
    "\n",
    "Example for a .cshrc file:\n",
    "```\n",
    "setenv FF_DIR '[your path to Firefly]/firefly_code'\n",
    "setenv PYTHONPATH ${PYTHONPATH}:${FF_DIR}/python\n",
    "setenv STELLARPOPMODELS_DIR '[your path to Firefly]/stellar_population_models/'\n",
    "```\n",
    "\n",
    "Besides the standard useful Python packages, we need to downlad the specific Firefly packages. "
   ]
  },
  {
   "cell_type": "code",
   "execution_count": 27,
   "metadata": {
    "collapsed": false
   },
   "outputs": [],
   "source": [
    "import sys, os.path\n",
    "import numpy as np\n",
    "import astropy.cosmology as co\n",
    "import GalaxySpectrumFIREFLY as gs\n",
    "import StellarPopulationModel as spm\n",
    "from astropy.io import fits\n",
    "from matplotlib import pyplot as plt\n",
    "%matplotlib notebook"
   ]
  },
  {
   "cell_type": "markdown",
   "metadata": {},
   "source": [
    "[GalaxySpectrumFIREFLY](http://www.mpe.mpg.de/~comparat/firefly_doc/GalaxySpectrumFIREFLY.html) Loads the environnement to transform observed spectra into the input for FIREFLY. The cosmology needs to be set:"
   ]
  },
  {
   "cell_type": "code",
   "execution_count": 28,
   "metadata": {
    "collapsed": false,
    "scrolled": true
   },
   "outputs": [
    {
     "name": "stdout",
     "output_type": "stream",
     "text": [
      "FlatLambdaCDM(name=\"Planck13\", H0=67.8 km / (Mpc s), Om0=0.307, Tcmb0=2.725 K, Neff=3.05, m_nu=[ 0.    0.    0.06] eV, Ob0=0.0483)\n"
     ]
    }
   ],
   "source": [
    "cosmo=co.Planck13\n",
    "print cosmo"
   ]
  },
  {
   "cell_type": "markdown",
   "metadata": {},
   "source": [
    "We have an example spectra from the SDSS, which name contain the Plate number and MJD and Fiber ids."
   ]
  },
  {
   "cell_type": "code",
   "execution_count": 29,
   "metadata": {
    "collapsed": false
   },
   "outputs": [
    {
     "name": "stdout",
     "output_type": "stream",
     "text": [
      "0266 51630 0623\n"
     ]
    }
   ],
   "source": [
    "file_path = 'example_data/spectra/0266/spec-0266-51630-0623.fits'\n",
    "\n",
    "# Check that the file actually exists\n",
    "if (not os.path.isfile(file_path)):\n",
    "    print 'Not found: ', file_path\n",
    "    sys.exit()\n",
    "\n",
    "base = os.path.basename(file_path).split('-')\n",
    "plate = base[1] \n",
    "mjd   = base[2]\n",
    "fiber, end = os.path.basename(base[3]).split('.')\n",
    "print plate, mjd, fiber"
   ]
  },
  {
   "cell_type": "markdown",
   "metadata": {},
   "source": [
    "We pass the path to this file to [GalaxySpectrumFIREFLY](http://www.mpe.mpg.de/~comparat/firefly_doc/GalaxySpectrumFIREFLY.html) and we set this module to use the Milky Way reddening maps:"
   ]
  },
  {
   "cell_type": "code",
   "execution_count": 30,
   "metadata": {
    "collapsed": false
   },
   "outputs": [
    {
     "name": "stdout",
     "output_type": "stream",
     "text": [
      "<type 'instance'>\n"
     ]
    }
   ],
   "source": [
    "spec=gs.GalaxySpectrumFIREFLY(file_path, milky_way_reddening=True)\n",
    "print type(spec)"
   ]
  },
  {
   "cell_type": "markdown",
   "metadata": {},
   "source": [
    "We set [GalaxySpectrumFIREFLY](http://www.mpe.mpg.de/~comparat/firefly_doc/GalaxySpectrumFIREFLY.html)  and \n",
    " is set to read different formats of files with spectra: stacked for eBOSS, simulated for GAMA, etc. (see the documentation for more details."
   ]
  },
  {
   "cell_type": "code",
   "execution_count": 31,
   "metadata": {
    "collapsed": false
   },
   "outputs": [
    {
     "name": "stdout",
     "output_type": "stream",
     "text": [
      "145.89217 0.059412\n"
     ]
    }
   ],
   "source": [
    "spec.openObservedSDSSSpectrum(survey='sdssMain')\n",
    "print spec.ra,spec.dec"
   ]
  },
  {
   "cell_type": "markdown",
   "metadata": {},
   "source": [
    "At the moment Firefly has only spectral templates for galaxies and star clusters. Below we check if we actually have the spectra of an SDSS galaxy and if it's redshift is adecuatelly determined:"
   ]
  },
  {
   "cell_type": "code",
   "execution_count": 32,
   "metadata": {
    "collapsed": false
   },
   "outputs": [
    {
     "name": "stdout",
     "output_type": "stream",
     "text": [
      "0.0633387\n"
     ]
    }
   ],
   "source": [
    "zz= spec.redshift ; print zz\n",
    "if ((spec.hdulist[2].data['CLASS'][0]!=\"GALAXY\")) or \\\n",
    "    (zz <=  spec.hdulist[2].data['Z_ERR'][0]) or \\\n",
    "    (spec.hdulist[2].data['Z_ERR'][0]<0) or \\\n",
    "    (spec.hdulist[2].data['ZWARNING'][0] !=0):\n",
    "    print 'This is either not a galaxy or it has a poorly determined redshift.'\n",
    "    sys.exit()"
   ]
  },
  {
   "cell_type": "markdown",
   "metadata": {},
   "source": [
    "Firefly has spectra templates in a range of ages and metalliticities that depend on your choice of stellar libraries. The default age and metallicity ranges are set in **linear** units. If you want to restrict your minimisation further, make sure that you include these new limits also in **linear** units, as at the moment the code won't deal properly with logarithmic limits. Let's set the new age and metallicity limits for our run."
   ]
  },
  {
   "cell_type": "code",
   "execution_count": 33,
   "metadata": {
    "collapsed": false
   },
   "outputs": [],
   "source": [
    "ageMin = 0.\n",
    "ageMax = np.log10(cosmo.age(zz).value*1e9) #Gyr\n",
    "ZMin = 0.001 #[Z/H]\n",
    "ZMax = 4. "
   ]
  },
  {
   "cell_type": "markdown",
   "metadata": {},
   "source": [
    "The next step is to choose the stellar population model, stellar library and IMF. The directory 'stellar_population_model' containes all the provided options and further details are in [the documentation](http://www.mpe.mpg.de/~comparat/firefly_doc/StellarPopulationModel.html)."
   ]
  },
  {
   "cell_type": "code",
   "execution_count": 34,
   "metadata": {
    "collapsed": false
   },
   "outputs": [],
   "source": [
    "model = 'm11'      # Maraston & Stromback 2011\n",
    "library = 'ELODIE' # Prugniel et al. 2007\n",
    "imf = 'cha'        # Chabrier 2003"
   ]
  },
  {
   "cell_type": "markdown",
   "metadata": {},
   "source": [
    "We set up now an output file. Note that the created directory 'output' is not tracked by git, so you won't see it in your directory, however it'll be created if you follow the commands presented here in your own script."
   ]
  },
  {
   "cell_type": "code",
   "execution_count": 35,
   "metadata": {
    "collapsed": false
   },
   "outputs": [
    {
     "name": "stdout",
     "output_type": "stream",
     "text": [
      "../output/spFly-one-0266-51630-0623.fits\n"
     ]
    }
   ],
   "source": [
    "outputdir = '../output/'\n",
    "if not os.path.exists(outputdir):\n",
    "    os.makedirs(outputdir)\n",
    "\n",
    "# Take part of the name of the input file for the output\n",
    "outputfile = outputdir+'spFly-one-'+ os.path.basename(file_path)[5:-5]+'.fits'\n",
    "print outputfile"
   ]
  },
  {
   "cell_type": "markdown",
   "metadata": {},
   "source": [
    "Let's populate the header of the output file with all the relevant information, making use of the [StellarPopulationModel](http://www.mpe.mpg.de/~comparat/firefly_doc/StellarPopulationModel.html):"
   ]
  },
  {
   "cell_type": "code",
   "execution_count": null,
   "metadata": {
    "collapsed": false
   },
   "outputs": [],
   "source": [
    "prihdr = spm.pyfits.Header()\n",
    "prihdr['FILE']          = os.path.basename(outputfile)\n",
    "prihdr['PLATE']         = plate \n",
    "prihdr['MJD']           = mjd   \n",
    "prihdr['FIBERID']       = fiber \n",
    "prihdr['MODELS']        = model\n",
    "prihdr['FITTER']        = \"FIREFLY\"\n",
    "prihdr['AGEMIN']        = str(ageMin)\n",
    "prihdr['AGEMAX']        = str(ageMax)\n",
    "prihdr['ZMIN']          = str(ZMin)\n",
    "prihdr['ZMAX']          = str(ZMax)\n",
    "prihdr['redshift']      = zz\n",
    "prihdu = spm.pyfits.PrimaryHDU(header=prihdr)"
   ]
  },
  {
   "cell_type": "markdown",
   "metadata": {},
   "source": [
    "We are going to run Firefly with the downgrade template libraries, 'use_downgraded_models = True'. You can downgrade the spectral templates to the resolution you need by setting 'downgrade_models = True', note that this is a long process."
   ]
  },
  {
   "cell_type": "code",
   "execution_count": null,
   "metadata": {
    "collapsed": false
   },
   "outputs": [],
   "source": [
    "tables = [prihdu]\n",
    "try :\n",
    "    bestfit = spm.StellarPopulationModel(spec, outputfile, cosmo, models = model, \\\n",
    "                                         model_libs = [library], imfs = [imf], \\\n",
    "                                         age_limits = [ageMin,ageMax], \\\n",
    "                                         downgrade_models = False, \\\n",
    "                                         data_wave_medium = 'vacuum', \\\n",
    "                                         Z_limits = [ZMin,ZMax], \\\n",
    "                                         use_downgraded_models = True, write_results = False)\n",
    "    bestfit.fit_models_to_data()\n",
    "    tables.append(bestfit.tbhdu )\n",
    "    converged = True\n",
    "except (ValueError):\n",
    "    tables.append(bestfit.create_dummy_hdu())\n",
    "    converged = False"
   ]
  },
  {
   "cell_type": "markdown",
   "metadata": {},
   "source": [
    "The Firefly best fits will be stored as tables only if the fit converges."
   ]
  },
  {
   "cell_type": "code",
   "execution_count": null,
   "metadata": {
    "collapsed": false
   },
   "outputs": [],
   "source": [
    "if converged :\n",
    "    complete_hdus = spm.pyfits.HDUList(tables)\n",
    "    if os.path.isfile(outputfile):\n",
    "        os.remove(outputfile)\n",
    "    complete_hdus.writeto(outputfile)"
   ]
  },
  {
   "cell_type": "markdown",
   "metadata": {},
   "source": [
    "Let's plot the best fit compared together with the original spectrum:"
   ]
  },
  {
   "cell_type": "code",
   "execution_count": null,
   "metadata": {
    "collapsed": false
   },
   "outputs": [],
   "source": [
    "# Get the relevant data from the file\n",
    "header =  fits.open(outputfile)  ; thefit = 1\n",
    "wavelength = header[thefit].data['wavelength']\n",
    "original_flux = header[thefit].data['original_data']\n",
    "bestfit_model = header[thefit].data['firefly_model']\n",
    "\n",
    "# Plot the spectra\n",
    "plt.plot(wavelength, original_flux, 'k')\n",
    "plt.plot(wavelength, bestfit_model, 'r')\n",
    "\n",
    "# Add labels and tick marks\n",
    "xtit = ('Wavelength (%s)' % header[thefit].header['TUNIT1'])\n",
    "ytit = ('Flux (%s)' % header[thefit].header['TUNIT2'])\n",
    "fn = 22 ; plt.xlabel(xtit, fontsize=fn) ; plt.ylabel(ytit, fontsize=fn)\n",
    "plt.tick_params(axis='both', which='major', labelsize=fn)\n",
    "plt.show()"
   ]
  }
 ],
 "metadata": {
  "kernelspec": {
   "display_name": "Python [Root]",
   "language": "python",
   "name": "Python [Root]"
  },
  "language_info": {
   "codemirror_mode": {
    "name": "ipython",
    "version": 2
   },
   "file_extension": ".py",
   "mimetype": "text/x-python",
   "name": "python",
   "nbconvert_exporter": "python",
   "pygments_lexer": "ipython2",
   "version": "2.7.12"
  }
 },
 "nbformat": 4,
 "nbformat_minor": 1
}
